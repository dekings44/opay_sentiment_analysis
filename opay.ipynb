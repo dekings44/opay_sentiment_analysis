{
 "cells": [
  {
   "cell_type": "markdown",
   "id": "8cf64f1d-a2ea-4ac8-845a-073b6018a600",
   "metadata": {},
   "source": [
    "Sentiment Analysis of Opay Playstore App Review"
   ]
  },
  {
   "cell_type": "code",
   "execution_count": 1,
   "id": "6d82521b-d234-435b-8acd-9ec309d79060",
   "metadata": {},
   "outputs": [
    {
     "name": "stderr",
     "output_type": "stream",
     "text": [
      "[nltk_data] Downloading package stopwords to\n",
      "[nltk_data]     C:\\Users\\kings\\AppData\\Roaming\\nltk_data...\n",
      "[nltk_data]   Package stopwords is already up-to-date!\n"
     ]
    }
   ],
   "source": [
    "# Libraries and modules for the sentiment analysis\n",
    "import pandas as pd\n",
    "from textblob import TextBlob\n",
    "from wordcloud import WordCloud\n",
    "import numpy as np\n",
    "import matplotlib.pyplot as plt\n",
    "import re\n",
    "\n",
    "from sklearn.feature_extraction.text import CountVectorizer\n",
    "from sklearn.model_selection import train_test_split\n",
    "from sklearn.naive_bayes import GaussianNB\n",
    "from sklearn.metrics import confusion_matrix, accuracy_score\n",
    "import joblib\n",
    "\n",
    "import nltk\n",
    "\n",
    "nltk.download('stopwords')\n",
    "\n",
    "from nltk.corpus import stopwords\n",
    "from nltk.stem.porter import PorterStemmer\n",
    "ps = PorterStemmer()\n",
    "\n",
    "all_stopwords = stopwords.words('english')\n",
    "all_stopwords.remove('not')\n",
    "plt.style.use('fivethirtyeight')"
   ]
  },
  {
   "cell_type": "code",
   "execution_count": 2,
   "id": "91d2da5a-bdd4-4eb9-827f-8e914e89bf3a",
   "metadata": {},
   "outputs": [],
   "source": [
    "opay = pd.read_csv('opay.csv')"
   ]
  },
  {
   "cell_type": "code",
   "execution_count": 3,
   "id": "7d007649-887f-47e4-95db-cf11c0c5948b",
   "metadata": {},
   "outputs": [
    {
     "data": {
      "text/html": [
       "<div>\n",
       "<style scoped>\n",
       "    .dataframe tbody tr th:only-of-type {\n",
       "        vertical-align: middle;\n",
       "    }\n",
       "\n",
       "    .dataframe tbody tr th {\n",
       "        vertical-align: top;\n",
       "    }\n",
       "\n",
       "    .dataframe thead th {\n",
       "        text-align: right;\n",
       "    }\n",
       "</style>\n",
       "<table border=\"1\" class=\"dataframe\">\n",
       "  <thead>\n",
       "    <tr style=\"text-align: right;\">\n",
       "      <th></th>\n",
       "      <th>reviewId</th>\n",
       "      <th>userName</th>\n",
       "      <th>userImage</th>\n",
       "      <th>content</th>\n",
       "      <th>score</th>\n",
       "      <th>thumbsUpCount</th>\n",
       "      <th>reviewCreatedVersion</th>\n",
       "      <th>at</th>\n",
       "      <th>replyContent</th>\n",
       "      <th>repliedAt</th>\n",
       "    </tr>\n",
       "  </thead>\n",
       "  <tbody>\n",
       "    <tr>\n",
       "      <th>0</th>\n",
       "      <td>c7a6c78d-6e34-4d15-b2c6-8447b6e56ed6</td>\n",
       "      <td>Omotosho Gift</td>\n",
       "      <td>https://play-lh.googleusercontent.com/a/ALm5wu...</td>\n",
       "      <td>I personally love the fact that there's no fee...</td>\n",
       "      <td>4</td>\n",
       "      <td>101</td>\n",
       "      <td>5.4.3.97</td>\n",
       "      <td>2022-11-14 17:18:35</td>\n",
       "      <td>Hi Omotosho, Thank you for taking out the time...</td>\n",
       "      <td>2022-11-15 08:14:10</td>\n",
       "    </tr>\n",
       "    <tr>\n",
       "      <th>1</th>\n",
       "      <td>3850aef0-f176-4f66-8f8e-f490a37fc5f4</td>\n",
       "      <td>Love Ifejiofor</td>\n",
       "      <td>https://play-lh.googleusercontent.com/a/ALm5wu...</td>\n",
       "      <td>Amazing app is all I can say. Better than trad...</td>\n",
       "      <td>5</td>\n",
       "      <td>1233</td>\n",
       "      <td>5.1.3.74</td>\n",
       "      <td>2022-09-12 12:04:38</td>\n",
       "      <td>Hi Love, Thank you for taking out the time to ...</td>\n",
       "      <td>2022-09-12 12:33:09</td>\n",
       "    </tr>\n",
       "    <tr>\n",
       "      <th>2</th>\n",
       "      <td>5a162618-762f-4af1-9f8a-e6a1a1d86dd2</td>\n",
       "      <td>Dauda Olamilekan</td>\n",
       "      <td>https://play-lh.googleusercontent.com/a/ALm5wu...</td>\n",
       "      <td>In fact is the best among the rest. I love it....</td>\n",
       "      <td>5</td>\n",
       "      <td>2025</td>\n",
       "      <td>5.1.5.76</td>\n",
       "      <td>2022-09-23 20:59:00</td>\n",
       "      <td>Hi Dauda, Thank you for taking out the time to...</td>\n",
       "      <td>2022-09-24 10:08:19</td>\n",
       "    </tr>\n",
       "    <tr>\n",
       "      <th>3</th>\n",
       "      <td>2f782fd8-9b09-494f-bdfd-66e9dd565b1d</td>\n",
       "      <td>elonwa john</td>\n",
       "      <td>https://play-lh.googleusercontent.com/a/ALm5wu...</td>\n",
       "      <td>Opay is really a great app. And they are doing...</td>\n",
       "      <td>4</td>\n",
       "      <td>2774</td>\n",
       "      <td>5.1.3.74</td>\n",
       "      <td>2022-09-15 10:36:41</td>\n",
       "      <td>Hi Elonwa, Thank you for taking out the time t...</td>\n",
       "      <td>2022-09-16 11:47:41</td>\n",
       "    </tr>\n",
       "    <tr>\n",
       "      <th>4</th>\n",
       "      <td>c2bc02d5-8af6-43cc-9594-daafbcd23373</td>\n",
       "      <td>prince Adeyemi Adelowo</td>\n",
       "      <td>https://play-lh.googleusercontent.com/a-/ACNPE...</td>\n",
       "      <td>I think the app is fantastic.. one feature tha...</td>\n",
       "      <td>3</td>\n",
       "      <td>290</td>\n",
       "      <td>5.3.0.91</td>\n",
       "      <td>2022-11-06 05:36:49</td>\n",
       "      <td>Hi Prince, Thank you for taking out the time t...</td>\n",
       "      <td>2022-11-07 09:18:05</td>\n",
       "    </tr>\n",
       "  </tbody>\n",
       "</table>\n",
       "</div>"
      ],
      "text/plain": [
       "                               reviewId                userName  \\\n",
       "0  c7a6c78d-6e34-4d15-b2c6-8447b6e56ed6           Omotosho Gift   \n",
       "1  3850aef0-f176-4f66-8f8e-f490a37fc5f4          Love Ifejiofor   \n",
       "2  5a162618-762f-4af1-9f8a-e6a1a1d86dd2        Dauda Olamilekan   \n",
       "3  2f782fd8-9b09-494f-bdfd-66e9dd565b1d             elonwa john   \n",
       "4  c2bc02d5-8af6-43cc-9594-daafbcd23373  prince Adeyemi Adelowo   \n",
       "\n",
       "                                           userImage  \\\n",
       "0  https://play-lh.googleusercontent.com/a/ALm5wu...   \n",
       "1  https://play-lh.googleusercontent.com/a/ALm5wu...   \n",
       "2  https://play-lh.googleusercontent.com/a/ALm5wu...   \n",
       "3  https://play-lh.googleusercontent.com/a/ALm5wu...   \n",
       "4  https://play-lh.googleusercontent.com/a-/ACNPE...   \n",
       "\n",
       "                                             content  score  thumbsUpCount  \\\n",
       "0  I personally love the fact that there's no fee...      4            101   \n",
       "1  Amazing app is all I can say. Better than trad...      5           1233   \n",
       "2  In fact is the best among the rest. I love it....      5           2025   \n",
       "3  Opay is really a great app. And they are doing...      4           2774   \n",
       "4  I think the app is fantastic.. one feature tha...      3            290   \n",
       "\n",
       "  reviewCreatedVersion                   at  \\\n",
       "0             5.4.3.97  2022-11-14 17:18:35   \n",
       "1             5.1.3.74  2022-09-12 12:04:38   \n",
       "2             5.1.5.76  2022-09-23 20:59:00   \n",
       "3             5.1.3.74  2022-09-15 10:36:41   \n",
       "4             5.3.0.91  2022-11-06 05:36:49   \n",
       "\n",
       "                                        replyContent            repliedAt  \n",
       "0  Hi Omotosho, Thank you for taking out the time...  2022-11-15 08:14:10  \n",
       "1  Hi Love, Thank you for taking out the time to ...  2022-09-12 12:33:09  \n",
       "2  Hi Dauda, Thank you for taking out the time to...  2022-09-24 10:08:19  \n",
       "3  Hi Elonwa, Thank you for taking out the time t...  2022-09-16 11:47:41  \n",
       "4  Hi Prince, Thank you for taking out the time t...  2022-11-07 09:18:05  "
      ]
     },
     "execution_count": 3,
     "metadata": {},
     "output_type": "execute_result"
    }
   ],
   "source": [
    "opay.head()"
   ]
  },
  {
   "cell_type": "code",
   "execution_count": 4,
   "id": "c2bad285-3fbf-49cd-9243-b3886ebaef4c",
   "metadata": {},
   "outputs": [
    {
     "data": {
      "text/plain": [
       "(106763, 10)"
      ]
     },
     "execution_count": 4,
     "metadata": {},
     "output_type": "execute_result"
    }
   ],
   "source": [
    "opay.shape"
   ]
  },
  {
   "cell_type": "code",
   "execution_count": 5,
   "id": "e14a77d4-495f-4871-b92d-5c778a043eaf",
   "metadata": {},
   "outputs": [
    {
     "name": "stdout",
     "output_type": "stream",
     "text": [
      "<class 'pandas.core.frame.DataFrame'>\n",
      "RangeIndex: 106763 entries, 0 to 106762\n",
      "Data columns (total 10 columns):\n",
      " #   Column                Non-Null Count   Dtype \n",
      "---  ------                --------------   ----- \n",
      " 0   reviewId              106763 non-null  object\n",
      " 1   userName              106763 non-null  object\n",
      " 2   userImage             106763 non-null  object\n",
      " 3   content               106763 non-null  object\n",
      " 4   score                 106763 non-null  int64 \n",
      " 5   thumbsUpCount         106763 non-null  int64 \n",
      " 6   reviewCreatedVersion  90405 non-null   object\n",
      " 7   at                    106763 non-null  object\n",
      " 8   replyContent          99887 non-null   object\n",
      " 9   repliedAt             99887 non-null   object\n",
      "dtypes: int64(2), object(8)\n",
      "memory usage: 8.1+ MB\n"
     ]
    }
   ],
   "source": [
    "opay.info()"
   ]
  },
  {
   "cell_type": "code",
   "execution_count": 6,
   "id": "6a0a8a5c-d83f-4b48-90c2-ab7d703c6837",
   "metadata": {},
   "outputs": [
    {
     "data": {
      "text/html": [
       "<div>\n",
       "<style scoped>\n",
       "    .dataframe tbody tr th:only-of-type {\n",
       "        vertical-align: middle;\n",
       "    }\n",
       "\n",
       "    .dataframe tbody tr th {\n",
       "        vertical-align: top;\n",
       "    }\n",
       "\n",
       "    .dataframe thead th {\n",
       "        text-align: right;\n",
       "    }\n",
       "</style>\n",
       "<table border=\"1\" class=\"dataframe\">\n",
       "  <thead>\n",
       "    <tr style=\"text-align: right;\">\n",
       "      <th></th>\n",
       "      <th>score</th>\n",
       "      <th>thumbsUpCount</th>\n",
       "    </tr>\n",
       "  </thead>\n",
       "  <tbody>\n",
       "    <tr>\n",
       "      <th>count</th>\n",
       "      <td>106763.000000</td>\n",
       "      <td>106763.000000</td>\n",
       "    </tr>\n",
       "    <tr>\n",
       "      <th>mean</th>\n",
       "      <td>4.232075</td>\n",
       "      <td>1.235962</td>\n",
       "    </tr>\n",
       "    <tr>\n",
       "      <th>std</th>\n",
       "      <td>1.329435</td>\n",
       "      <td>28.029866</td>\n",
       "    </tr>\n",
       "    <tr>\n",
       "      <th>min</th>\n",
       "      <td>1.000000</td>\n",
       "      <td>0.000000</td>\n",
       "    </tr>\n",
       "    <tr>\n",
       "      <th>25%</th>\n",
       "      <td>4.000000</td>\n",
       "      <td>0.000000</td>\n",
       "    </tr>\n",
       "    <tr>\n",
       "      <th>50%</th>\n",
       "      <td>5.000000</td>\n",
       "      <td>0.000000</td>\n",
       "    </tr>\n",
       "    <tr>\n",
       "      <th>75%</th>\n",
       "      <td>5.000000</td>\n",
       "      <td>0.000000</td>\n",
       "    </tr>\n",
       "    <tr>\n",
       "      <th>max</th>\n",
       "      <td>5.000000</td>\n",
       "      <td>2880.000000</td>\n",
       "    </tr>\n",
       "  </tbody>\n",
       "</table>\n",
       "</div>"
      ],
      "text/plain": [
       "               score  thumbsUpCount\n",
       "count  106763.000000  106763.000000\n",
       "mean        4.232075       1.235962\n",
       "std         1.329435      28.029866\n",
       "min         1.000000       0.000000\n",
       "25%         4.000000       0.000000\n",
       "50%         5.000000       0.000000\n",
       "75%         5.000000       0.000000\n",
       "max         5.000000    2880.000000"
      ]
     },
     "execution_count": 6,
     "metadata": {},
     "output_type": "execute_result"
    }
   ],
   "source": [
    "opay.describe()"
   ]
  },
  {
   "cell_type": "code",
   "execution_count": 7,
   "id": "1f7954d4-eda6-4140-8661-1dea095c611e",
   "metadata": {},
   "outputs": [
    {
     "data": {
      "text/plain": [
       "reviewId                    0\n",
       "userName                    0\n",
       "userImage                   0\n",
       "content                     0\n",
       "score                       0\n",
       "thumbsUpCount               0\n",
       "reviewCreatedVersion    16358\n",
       "at                          0\n",
       "replyContent             6876\n",
       "repliedAt                6876\n",
       "dtype: int64"
      ]
     },
     "execution_count": 7,
     "metadata": {},
     "output_type": "execute_result"
    }
   ],
   "source": [
    "opay.isnull().sum()"
   ]
  },
  {
   "cell_type": "code",
   "execution_count": 8,
   "id": "cc8dc702-bdab-42e6-9919-c77f4f02c676",
   "metadata": {},
   "outputs": [],
   "source": [
    "# This Function is to clean the dataset and remove the noise\n",
    "def cleanData(data):\n",
    "  data = re.sub(r'@[A-Za-z0-9_]+', '', data) # this will remove the @ mentions\n",
    "  data = re.sub(r'#', '', data) # this will remove the # symbols\n",
    "  data = re.sub(r'https?:\\/\\/\\s+', '', data) # This will remove the hyperlink\n",
    "  data = re.sub(r'\\n+', '', data) # This will removes all mention of \\n\n",
    "  data = re.sub(r'_', '', data) # This will remove _\n",
    "  data = re.sub(r'[0-9]', '', data) # This will remove numbers\n",
    "  data = data.lower()\n",
    "  data = data.split()\n",
    "  data = [ps.stem(word) for word in data if not word in set(all_stopwords)]\n",
    "  data = ' '.join(data)\n",
    "  return data"
   ]
  },
  {
   "cell_type": "code",
   "execution_count": 10,
   "id": "2deb7180-3adb-41f2-8f73-08eacf5c19eb",
   "metadata": {},
   "outputs": [],
   "source": [
    "opay['review'] = opay['content'].apply(cleanData)"
   ]
  },
  {
   "cell_type": "code",
   "execution_count": 11,
   "id": "fb513027-a0e4-412c-aa6f-6aa66db6ca29",
   "metadata": {},
   "outputs": [],
   "source": [
    "# Create a function to get the subjectivity. This tells the subjectivity of the users\n",
    "def reviewSubjectivity(data):\n",
    "  return TextBlob(data).sentiment.subjectivity"
   ]
  },
  {
   "cell_type": "code",
   "execution_count": 12,
   "id": "5250c240-f208-4816-8866-ff3c4f2d4c52",
   "metadata": {},
   "outputs": [
    {
     "ename": "NameError",
     "evalue": "name 'piggy_data' is not defined",
     "output_type": "error",
     "traceback": [
      "\u001b[1;31m---------------------------------------------------------------------------\u001b[0m",
      "\u001b[1;31mNameError\u001b[0m                                 Traceback (most recent call last)",
      "\u001b[1;32m~\\AppData\\Local\\Temp/ipykernel_85028/2272400267.py\u001b[0m in \u001b[0;36m<module>\u001b[1;34m\u001b[0m\n\u001b[0;32m      1\u001b[0m \u001b[1;31m# New column for the subjectivity\u001b[0m\u001b[1;33m\u001b[0m\u001b[1;33m\u001b[0m\u001b[0m\n\u001b[1;32m----> 2\u001b[1;33m \u001b[0mpiggy_data\u001b[0m\u001b[1;33m[\u001b[0m\u001b[1;34m'subjectivity'\u001b[0m\u001b[1;33m]\u001b[0m \u001b[1;33m=\u001b[0m \u001b[0mpiggy_data\u001b[0m\u001b[1;33m[\u001b[0m\u001b[1;34m'review'\u001b[0m\u001b[1;33m]\u001b[0m\u001b[1;33m.\u001b[0m\u001b[0mapply\u001b[0m\u001b[1;33m(\u001b[0m\u001b[0mreviewSubjectivity\u001b[0m\u001b[1;33m)\u001b[0m\u001b[1;33m\u001b[0m\u001b[1;33m\u001b[0m\u001b[0m\n\u001b[0m",
      "\u001b[1;31mNameError\u001b[0m: name 'piggy_data' is not defined"
     ]
    }
   ],
   "source": [
    "# New column for the subjectivity\n",
    "opay['subjectivity'] = ['review'].apply(reviewSubjectivity)"
   ]
  },
  {
   "cell_type": "code",
   "execution_count": null,
   "id": "9a24fdb2-8246-44b9-94fe-dff600eca3c0",
   "metadata": {},
   "outputs": [],
   "source": []
  }
 ],
 "metadata": {
  "kernelspec": {
   "display_name": "Python 3 (ipykernel)",
   "language": "python",
   "name": "python3"
  },
  "language_info": {
   "codemirror_mode": {
    "name": "ipython",
    "version": 3
   },
   "file_extension": ".py",
   "mimetype": "text/x-python",
   "name": "python",
   "nbconvert_exporter": "python",
   "pygments_lexer": "ipython3",
   "version": "3.10.7"
  }
 },
 "nbformat": 4,
 "nbformat_minor": 5
}
